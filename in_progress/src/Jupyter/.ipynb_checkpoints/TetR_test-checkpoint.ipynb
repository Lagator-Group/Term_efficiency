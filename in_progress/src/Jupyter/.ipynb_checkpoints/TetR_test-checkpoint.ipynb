{
 "cells": [
  {
   "cell_type": "markdown",
   "metadata": {
    "id": "UdKp-mmRcy2n"
   },
   "source": [
    "* Input: fasta file with promoter sequences\n",
    "* Output: $P_{\\rm on}$ for each sequence (txt file?)"
   ]
  },
  {
   "cell_type": "markdown",
   "metadata": {
    "id": "Z3SMlvYhMPuy"
   },
   "source": [
    "# Prepare\n"
   ]
  },
  {
   "cell_type": "markdown",
   "metadata": {
    "id": "wjldMM_cPYqS"
   },
   "source": [
    "## Install modules"
   ]
  },
  {
   "cell_type": "code",
   "execution_count": 1,
   "metadata": {
    "colab": {
     "base_uri": "https://localhost:8080/"
    },
    "executionInfo": {
     "elapsed": 14784,
     "status": "ok",
     "timestamp": 1658765252884,
     "user": {
      "displayName": "Stepan Denisov",
      "userId": "08382760269110148954"
     },
     "user_tz": -60
    },
    "id": "9fQbocSnK-hb",
    "outputId": "417b2189-bbee-476e-a33e-dd3127dbbb32"
   },
   "outputs": [
    {
     "name": "stdout",
     "output_type": "stream",
     "text": [
      "Python 3.7.3\n",
      "Collecting scikit-learn==0.21\n",
      "  Using cached https://files.pythonhosted.org/packages/ed/93/d4b622a8d15c9a1bce4d50c4875c872dde534d335e574ef48a50ee999d82/scikit_learn-0.21.0-cp37-cp37m-manylinux1_x86_64.whl\n",
      "Requirement already satisfied: joblib>=0.11 in /opt/apps/apps/binapps/anaconda3/2019.07-numpy-fix/lib/python3.7/site-packages (from scikit-learn==0.21) (0.13.2)\n",
      "Requirement already satisfied: numpy>=1.11.0 in /opt/apps/apps/binapps/anaconda3/2019.07-numpy-fix/lib/python3.7/site-packages (from scikit-learn==0.21) (1.16.4)\n",
      "Requirement already satisfied: scipy>=0.17.0 in /opt/apps/apps/binapps/anaconda3/2019.07-numpy-fix/lib/python3.7/site-packages (from scikit-learn==0.21) (1.3.0)\n",
      "Installing collected packages: scikit-learn\n",
      "  Found existing installation: scikit-learn 0.21.2\n",
      "    Uninstalling scikit-learn-0.21.2:\n",
      "\u001b[31mERROR: Could not install packages due to an EnvironmentError: [Errno 13] Permission denied: 'WHEEL'\n",
      "Consider using the `--user` option or check the permissions.\n",
      "\u001b[0m\n",
      "Collecting Bio\n",
      "  Using cached https://files.pythonhosted.org/packages/86/dc/9a64aa1ead660a010c45101a5265d42dbfb159b7fec7ddba71a3dbaf7923/bio-1.3.9-py3-none-any.whl\n",
      "Collecting mygene (from Bio)\n",
      "  Using cached https://files.pythonhosted.org/packages/a7/b7/132b1673c0ec00881d49d56c09624942fa0ebd2fc21d73d80647efa082e9/mygene-3.2.2-py2.py3-none-any.whl\n",
      "Collecting biopython>=1.79 (from Bio)\n",
      "  Using cached https://files.pythonhosted.org/packages/5a/42/de1ed545df624180b84c613e5e4de4848f72989ce5846a74af6baa0737b9/biopython-1.79-cp37-cp37m-manylinux_2_5_x86_64.manylinux1_x86_64.whl\n",
      "Requirement already satisfied: tqdm in /opt/apps/apps/binapps/anaconda3/2019.07-numpy-fix/lib/python3.7/site-packages (from Bio) (4.32.1)\n",
      "Requirement already satisfied: requests in /opt/apps/apps/binapps/anaconda3/2019.07-numpy-fix/lib/python3.7/site-packages (from Bio) (2.22.0)\n",
      "Collecting biothings-client>=0.2.6 (from mygene->Bio)\n",
      "  Using cached https://files.pythonhosted.org/packages/67/45/595faf22215de8d56900143572747357af67b48c62513383489a41b7d31a/biothings_client-0.2.6-py2.py3-none-any.whl\n",
      "Requirement already satisfied: numpy in /opt/apps/apps/binapps/anaconda3/2019.07-numpy-fix/lib/python3.7/site-packages (from biopython>=1.79->Bio) (1.16.4)\n",
      "Requirement already satisfied: idna<2.9,>=2.5 in /opt/apps/apps/binapps/anaconda3/2019.07-numpy-fix/lib/python3.7/site-packages (from requests->Bio) (2.8)\n",
      "Requirement already satisfied: urllib3!=1.25.0,!=1.25.1,<1.26,>=1.21.1 in /opt/apps/apps/binapps/anaconda3/2019.07-numpy-fix/lib/python3.7/site-packages (from requests->Bio) (1.24.2)\n",
      "Requirement already satisfied: certifi>=2017.4.17 in /opt/apps/apps/binapps/anaconda3/2019.07-numpy-fix/lib/python3.7/site-packages (from requests->Bio) (2019.6.16)\n",
      "Requirement already satisfied: chardet<3.1.0,>=3.0.2 in /opt/apps/apps/binapps/anaconda3/2019.07-numpy-fix/lib/python3.7/site-packages (from requests->Bio) (3.0.4)\n",
      "Installing collected packages: biothings-client, mygene, biopython, Bio\n",
      "\u001b[31mERROR: Could not install packages due to an EnvironmentError: [Errno 13] Permission denied: '/opt/apps/apps/binapps/anaconda3/2019.07-numpy-fix/lib/python3.7/site-packages/biothings_client-0.2.6.dist-info'\n",
      "Consider using the `--user` option or check the permissions.\n",
      "\u001b[0m\n"
     ]
    }
   ],
   "source": [
    "!python --version\n",
    "#!pip install scikit-learn==0.21\n",
    "#!pip install Bio"
   ]
  },
  {
   "cell_type": "markdown",
   "metadata": {
    "id": "dbYBqpLkMxGr"
   },
   "source": [
    "## Import modules"
   ]
  },
  {
   "cell_type": "code",
   "execution_count": 2,
   "metadata": {
    "colab": {
     "base_uri": "https://localhost:8080/"
    },
    "executionInfo": {
     "elapsed": 2634,
     "status": "ok",
     "timestamp": 1658765255512,
     "user": {
      "displayName": "Stepan Denisov",
      "userId": "08382760269110148954"
     },
     "user_tz": -60
    },
    "id": "ZbF9too5M1rZ",
    "outputId": "8ff27595-ed78-4ca5-9b54-9e4c94506880"
   },
   "outputs": [],
   "source": [
    "from __future__ import division, print_function, absolute_import\n",
    "\n",
    "import os\n",
    "from setuptools import setup\n",
    "from Cython.Build import cythonize\n",
    "import numpy as np\n",
    "from sklearn.linear_model import LogisticRegression\n",
    "from Bio import SeqIO\n",
    "from Bio.Seq import Seq\n",
    "import copy\n",
    "from sys import path as syspath\n",
    "import matplotlib.pyplot as plt\n",
    "import pandas as pd\n",
    "import pickle\n",
    "import csv"
   ]
  },
  {
   "cell_type": "markdown",
   "metadata": {
    "id": "HjVIRUtsNFMm"
   },
   "source": [
    "## Setup paths\n"
   ]
  },
  {
   "cell_type": "code",
   "execution_count": 3,
   "metadata": {
    "executionInfo": {
     "elapsed": 28,
     "status": "ok",
     "timestamp": 1658765257623,
     "user": {
      "displayName": "Stepan Denisov",
      "userId": "08382760269110148954"
     },
     "user_tz": -60
    },
    "id": "Gu7B5sy0VwNf"
   },
   "outputs": [],
   "source": [
    "# current working dir\n",
    "cwd = os.getcwd()\n",
    "# Model folder\n",
    "model_path = os.path.dirname(cwd)+'/promotors-master/'\n",
    "setup_py_filepath = os.path.dirname(cwd)+'/promotors-master/functions/setup.py'\n",
    "# Fasta file with sequences\n",
    "input_fasta_filepath = os.path.dirname((os.path.dirname(os.path.dirname(cwd))))+'/input/data/2022-07-19_Test_data_from_Jeremy/Test_seqs_from_Jeremy.fasta'\n",
    "# Output folder\n",
    "output_folder = os.path.dirname((os.path.dirname(os.path.dirname(cwd))))+'/output/output_data/Pons/'"
   ]
  },
  {
   "cell_type": "markdown",
   "metadata": {
    "id": "ow_ttVmWevp0"
   },
   "source": [
    "## Install and import in-house functions"
   ]
  },
  {
   "cell_type": "markdown",
   "metadata": {
    "id": "1_prvK8pfNLZ"
   },
   "source": [
    "### fastFunctions: install and import"
   ]
  },
  {
   "cell_type": "code",
   "execution_count": 6,
   "metadata": {
    "executionInfo": {
     "elapsed": 17,
     "status": "ok",
     "timestamp": 1658765257625,
     "user": {
      "displayName": "Stepan Denisov",
      "userId": "08382760269110148954"
     },
     "user_tz": -60
    },
    "id": "tGPOPhuwiQX1"
   },
   "outputs": [
    {
     "name": "stdout",
     "output_type": "stream",
     "text": [
      "running build_ext\r\n"
     ]
    }
   ],
   "source": [
    "os.environ[\"C_INCLUDE_PATH\"] = np.get_include()\n",
    "f_Functions_path = model_path+\"functions/fastFunctions.pyx\"\n",
    "!cythonize -a -i {f_Functions_path}"
   ]
  },
  {
   "cell_type": "markdown",
   "metadata": {
    "id": "IDBQBMV5kOAY"
   },
   "source": [
    "### Import model-related functions"
   ]
  },
  {
   "cell_type": "code",
   "execution_count": 7,
   "metadata": {
    "executionInfo": {
     "elapsed": 17,
     "status": "ok",
     "timestamp": 1658765257625,
     "user": {
      "displayName": "Stepan Denisov",
      "userId": "08382760269110148954"
     },
     "user_tz": -60
    },
    "id": "ZX0FBjDPjvw7"
   },
   "outputs": [],
   "source": [
    "os.chdir(model_path+'notebooks/')\n",
    "syspath.append(model_path+'data/')\n",
    "syspath.append(model_path+'functions/')\n",
    "\n",
    "from fastFunctions import bindingEnergies, getDiNu, tensum\n",
    "\n",
    "# this imports the data and functions from definitions\n",
    "exec(open(model_path+\"functions/definitions_bigfit_10.py\").read())"
   ]
  },
  {
   "cell_type": "markdown",
   "metadata": {
    "id": "ilTNEkDJlkIq"
   },
   "source": [
    "## Set constants & parameters"
   ]
  },
  {
   "cell_type": "markdown",
   "metadata": {
    "id": "zPG20utaloGC"
   },
   "source": [
    "### Constants"
   ]
  },
  {
   "cell_type": "code",
   "execution_count": 8,
   "metadata": {
    "executionInfo": {
     "elapsed": 17,
     "status": "ok",
     "timestamp": 1658765257626,
     "user": {
      "displayName": "Stepan Denisov",
      "userId": "08382760269110148954"
     },
     "user_tz": -60
    },
    "id": "94_-d_ntlwym"
   },
   "outputs": [],
   "source": [
    "# Nucleotides\n",
    "bases = \"acgt\"\n",
    "lett_to_index = dict(zip(bases, range(4)))\n",
    "\n",
    "# Display options (adjusted to Mac)\n",
    "%matplotlib inline\n",
    "%config InlineBackend.figure_format = 'retina'"
   ]
  },
  {
   "cell_type": "markdown",
   "metadata": {
    "id": "cKKqYNStl7z3"
   },
   "source": [
    "### Parameters"
   ]
  },
  {
   "cell_type": "code",
   "execution_count": 9,
   "metadata": {
    "executionInfo": {
     "elapsed": 17,
     "status": "ok",
     "timestamp": 1658765257626,
     "user": {
      "displayName": "Stepan Denisov",
      "userId": "08382760269110148954"
     },
     "user_tz": -60
    },
    "id": "60r7TIhkmEgn"
   },
   "outputs": [],
   "source": [
    "is_plus_one = True # True - a brick points to +1; False - points to -40\n",
    "if is_plus_one: # shift for sequence to adjust +1 or -40\n",
    "    shift = 40\n",
    "else:\n",
    "    shift = 0\n",
    "    \n",
    "is_reverse_complement = True # If True, reverse complement fasta seqs, then treat as usual\n",
    "\n",
    "# For visualisation\n",
    "is_high_to_default = False # If True, visualize brickplot values > treshold as default value\n",
    "treshold = -1.5\n",
    "default_value = -1.5  \n",
    "color_map = 'hot'\n",
    "\n",
    "is_prefix_suffix = True # True - add Gs to the begining and end of each sequence to make it equal length and space for matrix"
   ]
  },
  {
   "cell_type": "markdown",
   "metadata": {
    "id": "VtcarInMmoJx"
   },
   "source": [
    "# Preprocessing"
   ]
  },
  {
   "cell_type": "markdown",
   "metadata": {
    "id": "PK7wA4CCmqfu"
   },
   "source": [
    "Not a bug but the feature: add artificial 'g's in the begining and the end of all sequences to make them equal by length"
   ]
  },
  {
   "cell_type": "markdown",
   "metadata": {
    "id": "belJvEs1niPV"
   },
   "source": [
    "## Import promoter sequences"
   ]
  },
  {
   "cell_type": "code",
   "execution_count": 10,
   "metadata": {
    "colab": {
     "base_uri": "https://localhost:8080/"
    },
    "executionInfo": {
     "elapsed": 17,
     "status": "ok",
     "timestamp": 1658765257626,
     "user": {
      "displayName": "Stepan Denisov",
      "userId": "08382760269110148954"
     },
     "user_tz": -60
    },
    "id": "61ACWiPTnxHj",
    "outputId": "f9e0425b-3e94-4052-db21-b7ac95a1d254"
   },
   "outputs": [
    {
     "name": "stdout",
     "output_type": "stream",
     "text": [
      "Strong_Control_Variant_3R_Amended1\n",
      "sequence length = 66\n",
      "TCCAGAGGTTGACATCGTGCTCACGCAGCCATATAATCAGCGGACTCGTGCGGCCTGGACTGCTCA\n",
      "Strong_Control_Variant_2R_Amended1\n",
      "sequence length = 66\n",
      "TTAGTCAGTTGACAGCGCACTGCGTGACGCATATAATCGACGCTCAGTGTGCGCCTGGCTGACTAA\n",
      "Strong_Control_Variant_1R_Amended1\n",
      "sequence length = 66\n",
      "GCGTGAGCTTGACATGGCGGCCGCATGCCCATATAATGGCTCGAGTCCGCCAGCCTGGGCTCACGC\n"
     ]
    }
   ],
   "source": [
    "# Import promoters seqs data\n",
    "fasta_reader = open(input_fasta_filepath, 'r')\n",
    "\n",
    "# Initial sequences: fasta -> dict\n",
    "dict_seqs = {}\n",
    "max_seq_len = 0\n",
    "for line in fasta_reader:\n",
    "    if line.startswith('>'):\n",
    "        seq_id = line.strip('>').strip()\n",
    "        print(seq_id)\n",
    "    else:\n",
    "        seq = line.strip('\"').strip()\n",
    "        if seq == '':\n",
    "            continue\n",
    "        else:\n",
    "            if is_reverse_complement:\n",
    "                seq = str(Seq(seq).reverse_complement())\n",
    "        print('sequence length = '+str(len(seq)))\n",
    "        if max_seq_len < len(seq):\n",
    "            max_seq_len = len(seq)\n",
    "        print(seq)\n",
    "        dict_seqs[seq_id] = seq\n",
    "        \n",
    "fasta_reader.close()"
   ]
  },
  {
   "cell_type": "markdown",
   "metadata": {
    "id": "b1CBqZvdn4I7"
   },
   "source": [
    "## Unify sequences by length by adding artificial Gs"
   ]
  },
  {
   "cell_type": "code",
   "execution_count": 11,
   "metadata": {
    "executionInfo": {
     "elapsed": 15,
     "status": "ok",
     "timestamp": 1658765257627,
     "user": {
      "displayName": "Stepan Denisov",
      "userId": "08382760269110148954"
     },
     "user_tz": -60
    },
    "id": "CkcqROdLoVuJ"
   },
   "outputs": [],
   "source": [
    "# Sequences unified by length (TO MODIFY?)\n",
    "# Add artificial 'g's in the begining and the end of all sequences to make them equal by length\n",
    "unified_seqs_dict = {}\n",
    "for seq_id in dict_seqs:\n",
    "    seq = dict_seqs[seq_id]\n",
    "    if is_prefix_suffix:\n",
    "        prefix = str('g'*(max_seq_len - len(seq)+shift+5))\n",
    "        suffix = str('g'*(32+2+shift))\n",
    "        unified_seqs_dict[seq_id] = (prefix+seq+suffix).lower()\n",
    "    else:\n",
    "        unified_seqs_dict[seq_id] = seq.lower()\n",
    "        \n",
    "    #print(len(unified_seqs_dict[seq_id]))\n",
    "        \n",
    "# Seqs as numbers: 1) list of Int arrays made from Sequences unified by length, 2) list of seq_ids     \n",
    "num_unified_seqs = []\n",
    "seq_ids = []\n",
    "for seq_id in unified_seqs_dict:\n",
    "    seq_ids.append(seq_id)\n",
    "    \n",
    "num_unified_seqs = np.array([np.array([lett_to_index[l] for l in s]) for s in unified_seqs_dict.values()])    "
   ]
  },
  {
   "cell_type": "markdown",
   "metadata": {
    "id": "4b4YLEZ8ozan"
   },
   "source": [
    "# Use the model"
   ]
  },
  {
   "cell_type": "markdown",
   "metadata": {
    "id": "-QEtSy4hpRmy"
   },
   "source": [
    "## Import the model"
   ]
  },
  {
   "cell_type": "code",
   "execution_count": 12,
   "metadata": {
    "colab": {
     "base_uri": "https://localhost:8080/"
    },
    "executionInfo": {
     "elapsed": 14,
     "status": "ok",
     "timestamp": 1658765257627,
     "user": {
      "displayName": "Stepan Denisov",
      "userId": "08382760269110148954"
     },
     "user_tz": -60
    },
    "id": "uJzKyAXyozC_",
    "outputId": "02c4aba8-2172-4bd6-f31a-9f916e410d1d"
   },
   "outputs": [
    {
     "name": "stdout",
     "output_type": "stream",
     "text": [
      "The total footprint of RNAp = 32\n"
     ]
    },
    {
     "name": "stderr",
     "output_type": "stream",
     "text": [
      "/opt/apps/apps/binapps/anaconda3/2019.07-numpy-fix/lib/python3.7/site-packages/sklearn/base.py:306: UserWarning: Trying to unpickle estimator LogisticRegression from version 0.18.1 when using version 0.21.2. This might lead to breaking code or invalid results. Use at your own risk.\n",
      "  UserWarning)\n"
     ]
    }
   ],
   "source": [
    "# Import the model\n",
    "with open(\"report_2019_07_31/reFitPars_dumps/Prl.mag_/full_train.dmp\",\"rb\") as f:\n",
    "    model = pickle.load(f, encoding=\"latin1\")\n",
    "\n",
    "# Model characteristics\n",
    "leftFoot, rightFoot = model[\"matrices\"]\n",
    "defaultSpacer       = model[\"Layout\"][1]\n",
    "spacerFlexibility   = model[\"spFlex\"]\n",
    "spacerPenalties     = model[\"sp.penalties\"]\n",
    "\n",
    "# The total footprint of RNAp\n",
    "print('The total footprint of RNAp = '+str(sum(model[\"Layout\"])))"
   ]
  },
  {
   "cell_type": "markdown",
   "metadata": {
    "id": "s5M0GipopZ_D"
   },
   "source": [
    "## Energy matrix"
   ]
  },
  {
   "cell_type": "code",
   "execution_count": 13,
   "metadata": {
    "colab": {
     "base_uri": "https://localhost:8080/",
     "height": 125
    },
    "executionInfo": {
     "elapsed": 456,
     "status": "ok",
     "timestamp": 1658765258072,
     "user": {
      "displayName": "Stepan Denisov",
      "userId": "08382760269110148954"
     },
     "user_tz": -60
    },
    "id": "9yawGlg2pmQF",
    "outputId": "97f61886-6927-420f-8aa1-20224fdd3760"
   },
   "outputs": [
    {
     "name": "stdout",
     "output_type": "stream",
     "text": [
      "The matrix size = (32, 4)\n",
      "The matrix itself:\n"
     ]
    },
    {
     "data": {
      "image/png": "[encoded data removed]",
      "text/plain": [
       "<Figure size 432x288 with 1 Axes>"
      ]
     },
     "metadata": {
      "image/png": {
       "height": 72,
       "width": 362
      },
      "needs_background": "light"
     },
     "output_type": "display_data"
    }
   ],
   "source": [
    "# Extract the matrix from the model\n",
    "matrix = np.vstack([\n",
    "    leftFoot,\n",
    "    np.ones((defaultSpacer,4))*np.nan,\n",
    "    rightFoot\n",
    "])\n",
    "\n",
    "print('The matrix size = '+str(matrix.shape))\n",
    "\n",
    "# Display the matrix\n",
    "plt.imshow(matrix.T, cmap=color_map);\n",
    "print('The matrix itself:')\n"
   ]
  },
  {
   "cell_type": "markdown",
   "metadata": {
    "id": "wA8vD3MdqAxQ"
   },
   "source": [
    "## Brickplots"
   ]
  },
  {
   "cell_type": "markdown",
   "metadata": {
    "id": "pPqHp7v8tttI"
   },
   "source": [
    "### Get the bricks (apply the model to our seqs)"
   ]
  },
  {
   "cell_type": "code",
   "execution_count": 14,
   "metadata": {
    "colab": {
     "base_uri": "https://localhost:8080/"
    },
    "executionInfo": {
     "elapsed": 10,
     "status": "ok",
     "timestamp": 1658765258073,
     "user": {
      "displayName": "Stepan Denisov",
      "userId": "08382760269110148954"
     },
     "user_tz": -60
    },
    "id": "kaZT7xOutqfa",
    "outputId": "44ae4afa-217b-4a13-f7f5-25aacb0f2f9e"
   },
   "outputs": [
    {
     "name": "stdout",
     "output_type": "stream",
     "text": [
      "defaultSpacer = 8\n"
     ]
    }
   ],
   "source": [
    " bricks = getBricks(\n",
    "    twoMatrices     = [leftFoot,rightFoot],\n",
    "    minSpacer       = defaultSpacer-spacerFlexibility, # minimal spacer\n",
    "    spacerPenalties = spacerPenalties,\n",
    "    sequences       = num_unified_seqs\n",
    ")\n",
    "\n",
    "# Default spacer corresponds to spacer flex = 0 on a brickplot\n",
    "print('defaultSpacer = '+str(defaultSpacer))\n"
   ]
  },
  {
   "cell_type": "markdown",
   "metadata": {
    "id": "onZzujZNtqA0"
   },
   "source": [
    "### Draw brickpolots"
   ]
  },
  {
   "cell_type": "code",
   "execution_count": 15,
   "metadata": {
    "colab": {
     "base_uri": "https://localhost:8080/",
     "height": 643
    },
    "executionInfo": {
     "elapsed": 12188,
     "status": "ok",
     "timestamp": 1658765270254,
     "user": {
      "displayName": "Stepan Denisov",
      "userId": "08382760269110148954"
     },
     "user_tz": -60
    },
    "id": "Qtzmm_4pqNOX",
    "outputId": "abb62524-5531-47f3-ba89-451d0ec1cbbe"
   },
   "outputs": [
    {
     "name": "stdout",
     "output_type": "stream",
     "text": [
      "gggggtccagaggttgacatcgtgctcacgcagccatataatcagcggactcgtgcggcctggactgctcaggggggggggggggggggggggggggggggggggggggggg\n",
      "\n",
      "extended seg_len = 112\n",
      "gggggttagtcagttgacagcgcactgcgtgacgcatataatcgacgctcagtgtgcgcctggctgactaaggggggggggggggggggggggggggggggggggggggggg\n",
      "\n",
      "extended seg_len = 112\n",
      "ggggggcgtgagcttgacatggcggccgcatgcccatataatggctcgagtccgccagcctgggctcacgcggggggggggggggggggggggggggggggggggggggggg\n",
      "\n",
      "extended seg_len = 112\n"
     ]
    },
    {
     "data": {
      "image/png": "[encoded data removed]",
      "text/plain": [
       "<Figure size 2160x144 with 2 Axes>"
      ]
     },
     "metadata": {
      "image/png": {
       "height": 155,
       "width": 1505
      },
      "needs_background": "light"
     },
     "output_type": "display_data"
    },
    {
     "data": {
      "image/png": "[encoded data removed]",
      "text/plain": [
       "<Figure size 2160x144 with 2 Axes>"
      ]
     },
     "metadata": {
      "image/png": {
       "height": 155,
       "width": 1505
      },
      "needs_background": "light"
     },
     "output_type": "display_data"
    },
    {
     "data": {
      "image/png": "[encoded data removed]",
      "text/plain": [
       "<Figure size 2160x144 with 2 Axes>"
      ]
     },
     "metadata": {
      "image/png": {
       "height": 155,
       "width": 1505
      },
      "needs_background": "light"
     },
     "output_type": "display_data"
    }
   ],
   "source": [
    "def remove_high_values(brick_in, treshold, default_value):\n",
    "# Make values > treshold to be default value (for better visualization)\n",
    "    brick_out = copy.deepcopy(brick_in)\n",
    "    for i in range(brick_in.shape[0]):\n",
    "        for j in range(brick_in.shape[1]):\n",
    "            if brick_in[i,j] > treshold:\n",
    "                brick_out[i,j] = default_value\n",
    "    return brick_out\n",
    "                \n",
    "for i in range(len(num_unified_seqs)):\n",
    "    curr_seq = unified_seqs_dict[seq_ids[i]][shift:-matrix.shape[0]-1]\n",
    "    print(curr_seq)\n",
    "    print('')\n",
    "    print('extended seg_len = '+str(len(curr_seq)))\n",
    "    theBrick = bricks.T[i]\n",
    "    \n",
    "    if is_high_to_default:\n",
    "        theBrick_to_display = remove_high_values(theBrick, treshold, default_value)\n",
    "    else:\n",
    "        theBrick_to_display = theBrick\n",
    "\n",
    "    plt.figure(figsize=(30,2))\n",
    "    plt.imshow(theBrick_to_display.T[:,:theBrick_to_display.shape[0]-shift+1], cmap=color_map)\n",
    "    plt.title(seq_ids[i])\n",
    "    plt.yticks(range(5), np.arange(5)-2)\n",
    "    plt.xticks(range(len(curr_seq)), [char for char in curr_seq])\n",
    "    plt.clim([-4,-1])\n",
    "    plt.ylabel('spacer\\nflex')\n",
    "    plt.gca().set_aspect(\"auto\")\n",
    "    plt.colorbar()\n",
    "    plt.savefig(output_folder+seq_ids[i]+'.pdf') \n",
    "    \n"
   ]
  },
  {
   "cell_type": "markdown",
   "metadata": {
    "id": "IhqVX-FhqemD"
   },
   "source": [
    "They are binding energies per spacer per position.\n",
    "\n",
    "What does a position mean? \n",
    "* trancription start site (+1) IF is_plus_one == True\n",
    "* -40 which is begining of -35 sigma70 foot IF is_plus_one == False\n",
    "\n",
    "The minimal value corresponds to the best binding."
   ]
  },
  {
   "cell_type": "markdown",
   "metadata": {
    "id": "FHoqPiAVqtC6"
   },
   "source": [
    "## Bricks to $\\log P_{\\rm on}$\n"
   ]
  },
  {
   "cell_type": "markdown",
   "metadata": {
    "id": "PMIm5bpsq7qK"
   },
   "source": [
    "Our measure of expression is the $\\log P_{\\rm on}$, where $P_{\\rm on}$ is the probability that the promoter is \"on\"."
   ]
  },
  {
   "cell_type": "code",
   "execution_count": 16,
   "metadata": {
    "colab": {
     "base_uri": "https://localhost:8080/"
    },
    "executionInfo": {
     "elapsed": 10,
     "status": "ok",
     "timestamp": 1658765270255,
     "user": {
      "displayName": "Stepan Denisov",
      "userId": "08382760269110148954"
     },
     "user_tz": -60
    },
    "id": "JRxg0edDqz6T",
    "outputId": "318d0d74-5645-465b-9bd9-431c006312f7"
   },
   "outputs": [
    {
     "name": "stdout",
     "output_type": "stream",
     "text": [
      "Bricks:\n",
      "[[[3.87207093 2.59365428 2.16934728 2.41767331 3.23857307]\n",
      "  [3.87207093 2.59365428 2.16934728 2.41767331 3.23857307]\n",
      "  [3.87207093 2.59365428 2.16934728 2.41767331 3.23857307]\n",
      "  ...\n",
      "  [3.87207093 2.59365428 2.16934728 2.41767331 3.23857307]\n",
      "  [3.87207093 2.59365428 2.16934728 2.41767331 3.23857307]\n",
      "  [3.87207093 2.59365428 2.16934728 2.41767331 3.23857307]]\n",
      "\n",
      " [[3.87207093 2.59365428 2.16934728 2.41767331 3.23857307]\n",
      "  [3.87207093 2.59365428 2.16934728 2.41767331 3.23857307]\n",
      "  [3.87207093 2.59365428 2.16934728 2.41767331 3.23857307]\n",
      "  ...\n",
      "  [3.87207093 2.59365428 2.16934728 2.41767331 3.23857307]\n",
      "  [3.87207093 2.59365428 2.16934728 2.41767331 3.23857307]\n",
      "  [3.87207093 2.59365428 2.16934728 2.41767331 3.23857307]]\n",
      "\n",
      " [[3.87207093 2.59365428 2.16934728 2.41767331 3.23857307]\n",
      "  [3.87207093 2.59365428 2.16934728 2.41767331 3.23857307]\n",
      "  [3.87207093 2.59365428 2.16934728 2.41767331 3.23857307]\n",
      "  ...\n",
      "  [3.87207093 2.59365428 2.16934728 2.41767331 3.23857307]\n",
      "  [3.87207093 2.59365428 2.16934728 2.41767331 3.23857307]\n",
      "  [3.87207093 2.59365428 2.16934728 2.41767331 3.23857307]]]\n",
      "(3, 151, 5)\n",
      "log(Pon) = [-0.12826701 -0.13231803 -0.12814762]\n",
      "Pon = [0.74427424 0.73736406 0.74447887]\n"
     ]
    }
   ],
   "source": [
    "# Print Pons and stuff\n",
    "print('Bricks:')\n",
    "print(bricks.T)\n",
    "print(bricks.T.shape)\n",
    "chemPot = model[\"chem.pot\"][\"Prl\"]\n",
    "energyScale = model[\"en.scale\"]\n",
    "logPons = brick2lps({\"Pr\": energyScale*(bricks.T-chemPot)}, model)[\"Pr\"]\n",
    "print('log(Pon) = '+str(logPons))\n",
    "print('Pon = '+ str(10**logPons))\n",
    "\n",
    "# Write to file\n",
    "with open(output_folder+'Pons.tsv', 'w', newline='') as Pon_file:\n",
    "    Pon_writer = csv.writer(Pon_file, delimiter='\\t')\n",
    "    Pon_writer.writerow(['seq_id', 'logPon', 'Pon'])\n",
    "    for i in range(len(logPons)):\n",
    "      Pon_writer.writerow([seq_ids[i], str(logPons[i]), str(10**logPons[i])])"
   ]
  }
 ],
 "metadata": {
  "colab": {
   "authorship_tag": "ABX9TyMWrvY+EEuY9vAvQPYXRtsU",
   "collapsed_sections": [],
   "name": "TetR_test.ipynb",
   "provenance": []
  },
  "kernelspec": {
   "display_name": "Python 3",
   "language": "python",
   "name": "python3"
  },
  "language_info": {
   "codemirror_mode": {
    "name": "ipython",
    "version": 3
   },
   "file_extension": ".py",
   "mimetype": "text/x-python",
   "name": "python",
   "nbconvert_exporter": "python",
   "pygments_lexer": "ipython3",
   "version": "3.7.3"
  }
 },
 "nbformat": 4,
 "nbformat_minor": 1
}
