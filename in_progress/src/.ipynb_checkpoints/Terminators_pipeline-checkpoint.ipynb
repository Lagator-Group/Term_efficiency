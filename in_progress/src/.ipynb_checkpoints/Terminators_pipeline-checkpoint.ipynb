{
 "cells": [
  {
   "cell_type": "markdown",
   "metadata": {},
   "source": [
    "# Terminators plan\n",
    "1. Map ITs to E.coli and Salmonella genome by searching the substring... How to do it efficiently?\n",
    "2. If smth going wrong with (1), use blast instead.\n",
    "3. Intersect with the annotation (gff file). -> location on upstream and downstream genes.\n",
    "4. blast terminators to the opposite genome.\n",
    "5. If smth wrong with (4) use info about upstream and downstream genes. "
   ]
  },
  {
   "cell_type": "markdown",
   "metadata": {},
   "source": [
    "## Preferences\n",
    "TODO: \n",
    "* use ralative paths"
   ]
  },
  {
   "cell_type": "code",
   "execution_count": 1,
   "metadata": {},
   "outputs": [],
   "source": [
    "# Input files\n",
    "Ec_genome_file_path = '/Users/stepandenisov/Google Drive/PRIVATE/Work_Manchester/Projects/terminators/input/data/2020-07-02_from_Rodrigo/Escherichia_coli_genome/E. coli K12 MG1655 (NC_000913).fasta'\n",
    "Sp_genome_file_path = '/Users/stepandenisov/Google Drive/PRIVATE/Work_Manchester/Projects/terminators/input/data/2020-07-02_from_Rodrigo/salmonella_pullorum_genome/GCF_000330485.2_ASM33048v2_genomic.fna'\n",
    "terminators_file_path = '/Users/stepandenisov/Google Drive/PRIVATE/Work_Manchester/Projects/terminators/input/data/2020-07-02_from_Rodrigo/Experimental_data_s.txt'\n",
    "Ec_annotation_file_path = '/Users/stepandenisov/Google Drive/PRIVATE/Work_Manchester/Projects/terminators/input/data/2020-07-02_from_Rodrigo/E. coli K12 MG1655 (NC_000913).gff'\n",
    "Sp_annotation_file_path = '/Users/stepandenisov/Google Drive/PRIVATE/Work_Manchester/Projects/terminators/input/data/2020-07-02_from_Rodrigo/salmonella_pullorum_genome/GCF_000330485.2_ASM33048v2_genomic.gff'\n",
    "\n",
    "# Output files\n",
    "map_terminators_file_path = '/Users/stepandenisov/Google Drive/PRIVATE/Work_Manchester/Projects/terminators/in_progress/processed_data/Exp_data_mapped.tsv'\n",
    "Ec_BED_terminators_file_path = '/Users/stepandenisov/Google Drive/PRIVATE/Work_Manchester/Projects/terminators/in_progress/processed_data/Ec_terminators.bed'\n",
    "Sp_BED_terminators_file_path = '/Users/stepandenisov/Google Drive/PRIVATE/Work_Manchester/Projects/terminators/in_progress/processed_data/Sp_terminators.bed'\n",
    "\n",
    "# Constants\n",
    "seq_col_name = 'sequence' # name of sequence column in terminators_file_path\n",
    "org_col_name = 'Name' # name of organism column in terminators_file_path Cha* means E.coli Nur* means S.pullorum\n",
    "score_col_name = 'AVERAGE' # score for BED files (average terminator effeciency)\n",
    "Ec_genome_file_format = 'fasta'\n",
    "Sp_genome_file_format = 'fasta'\n",
    "\n",
    "# Imports\n",
    "from Bio import SeqIO\n",
    "import re\n",
    "import sys\n",
    "import csv\n",
    "import pybedtools\n"
   ]
  },
  {
   "cell_type": "markdown",
   "metadata": {},
   "source": [
    "# Map terminators\n",
    "## Derectly search with no mismatches/indels allowed "
   ]
  },
  {
   "cell_type": "code",
   "execution_count": 2,
   "metadata": {},
   "outputs": [
    {
     "name": "stdout",
     "output_type": "stream",
     "text": [
      "Exp_data_mapped.tsv has been updated\n",
      "BED files have been created\n"
     ]
    }
   ],
   "source": [
    "# Functions\n",
    "def compl_letter(letter):\n",
    "    if letter == 'A':\n",
    "        return 'T'\n",
    "    elif letter == 'C':\n",
    "        return 'G'\n",
    "    elif letter == 'G':\n",
    "        return 'C'\n",
    "    elif letter == 'T':\n",
    "        return 'A'\n",
    "    elif letter == '-':\n",
    "        return '-'\n",
    "    elif letter == '@':\n",
    "        return '@'\n",
    "    elif letter == 'N':\n",
    "        return 'N'\n",
    "    else:\n",
    "        raise NameError, 'Unknown letter: ' + letter\n",
    "\n",
    "def compl(seq):\n",
    "    seq = seq.upper()\n",
    "    compl_seq = ''\n",
    "    for i in range(len(seq)-1, -1, -1):\n",
    "        compl_seq += compl_letter(seq[i])\n",
    "    return compl_seq\n",
    "\n",
    "def search_fasta(pattern, file_path, file_format):\n",
    "    matches = []\n",
    "    for record in SeqIO.parse(open(file_path, \"rU\"), file_format):\n",
    "        chrom = record.id\n",
    "        for match in re.finditer(pattern, str(record.seq)):\n",
    "            # 1-based\n",
    "            start_pos = match.start() + 1\n",
    "            end_pos = match.end()\n",
    "            matches.append((start_pos, end_pos))\n",
    "    return matches\n",
    "\n",
    "# Terinators file readre\n",
    "t_file_reader = open(terminators_file_path,'r')\n",
    "header_array = t_file_reader.readline().split()\n",
    "seq_col_index = header_array.index(seq_col_name)\n",
    "org_col_index = header_array.index(org_col_name)\n",
    "score_col_index = header_array.index(score_col_name)\n",
    "\n",
    "# Mapped terminators file writer\n",
    "out_writer = open(map_terminators_file_path, 'wb')\n",
    "tsv_writer = csv.writer(out_writer, delimiter='\\t', lineterminator=\"\\n\")\n",
    "\n",
    "# Hearder of the mapped terminators file\n",
    "map_header_array = header_array + ['strand', 'start', 'end']\n",
    "tsv_writer.writerow(map_header_array)\n",
    "\n",
    "# BED file writers\n",
    "# E.coli\n",
    "Ec_BED_writer = open(Ec_BED_terminators_file_path, 'wb')\n",
    "Ec_BED_writer.write(\"track name=Ec_terminators description='Terminators from E.coli genome'\")\n",
    "Ec_tsv_BED_writer = csv.writer(Ec_BED_writer, delimiter='\\t', lineterminator=\"\\n\")\n",
    "# S.pullorum\n",
    "Sp_BED_writer = open(Sp_BED_terminators_file_path, 'wb')\n",
    "Sp_BED_writer.write(\"track name=Sp_terminators description='Terminators from S.pullorum genome'\")\n",
    "Sp_tsv_BED_writer = csv.writer(Sp_BED_writer, delimiter='\\t', lineterminator=\"\\n\")\n",
    "\n",
    "\n",
    "for t_line in t_file_reader:\n",
    "    t_array = t_line.split()\n",
    "    \n",
    "    if t_array[org_col_index].startswith('Cha'):\n",
    "        genome_file_path = Ec_genome_file_path\n",
    "        genome_file_format = Ec_genome_file_format\n",
    "    elif t_array[org_col_index].startswith('Nur'): # actually it is Salmonellla PULLORUM (not ENTERICA)\n",
    "        genome_file_path = Sp_genome_file_path\n",
    "        genome_file_format = Sp_genome_file_format\n",
    "    else:\n",
    "        raise ValueError(\"Unknown terminator name format\")\n",
    "        \n",
    "    #print t_array[org_col_index]\n",
    "    \n",
    "    dir_pattern = t_array[seq_col_index]\n",
    "    #print dir_pattern\n",
    "    dir_coords = search_fasta(dir_pattern, genome_file_path, genome_file_format)\n",
    "\n",
    "    rev_pattern = compl(dir_pattern)\n",
    "    #print rev_pattern\n",
    "    rev_coords = search_fasta(rev_pattern, genome_file_path, genome_file_format)\n",
    "\n",
    "    if len(dir_coords) + len(rev_coords) > 1:\n",
    "        TypeError('Several matches')\n",
    "    if len(dir_coords) + len(rev_coords) == 0:\n",
    "        strand = 'NA'\n",
    "        coords = ['NA', 'NA']\n",
    "    if len(dir_coords) == 1:\n",
    "        strand = '+'\n",
    "        coords = dir_coords[0]\n",
    "    if len(rev_coords) == 1:\n",
    "        strand = '-'\n",
    "        coords = rev_coords[0]\n",
    "    map_array = t_array + [str(strand), coords[0], coords[1]] \n",
    "    # Exclude NA from the analysis\n",
    "    if strand != 'NA':\n",
    "        tsv_writer.writerow(map_array)\n",
    "        score = t_array[score_col_index]\n",
    "        if t_array[org_col_index].startswith('Cha'): # Ec\n",
    "            BED_array = ['E._coli_K12_MG1655_(NC_000913)', coords[0]-1, coords[1], t_array[org_col_index], str(score), str(strand)] # 0-based \n",
    "            Ec_tsv_BED_writer.writerow(BED_array)\n",
    "        elif t_array[org_col_index].startswith('Nur'): # Sp\n",
    "            BED_array = ['NZ_CP012347.1', coords[0]-1, coords[1], t_array[org_col_index], str(score), str(strand)] # 0-based\n",
    "            Sp_tsv_BED_writer.writerow(BED_array)           \n",
    "        else: \n",
    "            raise ValueError(\"Unknown terminator name format\")\n",
    "\n",
    "t_file_reader.close()\n",
    "out_writer.close()\n",
    "Ec_BED_writer.close()\n",
    "Sp_BED_writer.close()\n",
    "\n",
    "print 'Exp_data_mapped.tsv has been updated'\n",
    "print 'BED files have been created'"
   ]
  },
  {
   "cell_type": "markdown",
   "metadata": {},
   "source": [
    "## Special cases\n",
    "Now we exclude them from the analysis\n",
    "### Nur481\n",
    "* Not mapped in S.p.\n",
    "* Found in S.e.\n",
    "* Blast-found in S.p. with one indel: Nur481-Alignment.txt\n",
    "\n",
    "```\n",
    "Query: None Query ID: lcl|Query_56100 Length: 37\n",
    "\n",
    ">NZ_CP012347.1 Salmonella enterica subsp. enterica serovar Pullorum str. ATCC 9120, complete genome\n",
    "Sequence ID: Query_56102 Length: 4694842 \n",
    "Range 1: 398374 to 398409\n",
    "\n",
    "Score:59.9 bits(65), Expect:1e-10, \n",
    "Identities:36/37(97%),  Gaps:1/37(2%), Strand: Plus/Minus\n",
    "\n",
    "Query  1       AAAAAACCGGGATTTTCCCGGTTTTTTTACAGGTCTG  37\n",
    "               ||||||||||||||| |||||||||||||||||||||\n",
    "Sbjct  398409  AAAAAACCGGGATTT-CCCGGTTTTTTTACAGGTCTG  398374\n",
    "```\n",
    "* Found manually in S.p. with one indel\n",
    "* Found by scipt in S.p. with one indel (on - strand):"
   ]
  },
  {
   "cell_type": "code",
   "execution_count": 3,
   "metadata": {},
   "outputs": [
    {
     "data": {
      "text/plain": [
       "[(398374, 398409)]"
      ]
     },
     "execution_count": 3,
     "metadata": {},
     "output_type": "execute_result"
    }
   ],
   "source": [
    "search_fasta(compl('AAAAAACCGGGATTTCCCGGTTTTTTTACAGGTCTG'), Sp_genome_file_path, Sp_genome_file_format)"
   ]
  },
  {
   "cell_type": "markdown",
   "metadata": {},
   "source": [
    "### Nur20:\n",
    "* Not mappaed in S.p.\n",
    "* Found in S.e.\n",
    "* Blast-found in S.p. with one indel: Nur20-Alignment.txt\n",
    "\n",
    "```\n",
    "Query: None Query ID: lcl|Query_61774 Length: 39\n",
    "\n",
    ">NZ_CP012347.1 Salmonella enterica subsp. enterica serovar Pullorum str. ATCC 9120, complete genome\n",
    "Sequence ID: Query_61776 Length: 4694842 \n",
    "Range 1: 1150868 to 1150905\n",
    "\n",
    "Score:63.5 bits(69), Expect:1e-11, \n",
    "Identities:38/39(97%),  Gaps:1/39(2%), Strand: Plus/Plus\n",
    "\n",
    "Query  1        CAAGAGGCCGGATAATCCGGCCTCTTTTTTTTGGTCGAG  39\n",
    "                |||||||||||||||||||||||| ||||||||||||||\n",
    "Sbjct  1150868  CAAGAGGCCGGATAATCCGGCCTC-TTTTTTTGGTCGAG  1150905\n",
    "\n",
    "```\n",
    "* Found by scipt in S.p. with one indel (on + strand):"
   ]
  },
  {
   "cell_type": "code",
   "execution_count": 4,
   "metadata": {},
   "outputs": [
    {
     "data": {
      "text/plain": [
       "[(1150868, 1150905)]"
      ]
     },
     "execution_count": 4,
     "metadata": {},
     "output_type": "execute_result"
    }
   ],
   "source": [
    "search_fasta('CAAGAGGCCGGATAATCCGGCCTCTTTTTTTGGTCGAG', Sp_genome_file_path, Sp_genome_file_format)"
   ]
  },
  {
   "cell_type": "markdown",
   "metadata": {},
   "source": [
    "## Upstream and downstream genes\n",
    "* Use gff file to extract closest genes (check for intersections as well): write down their names, ids and coordinates\n",
    "* Distances between termonator and CDS end (upstream gene), CDS start (downstream gene)"
   ]
  },
  {
   "cell_type": "code",
   "execution_count": 27,
   "metadata": {},
   "outputs": [
    {
     "name": "stdout",
     "output_type": "stream",
     "text": [
      "E._coli_K12_MG1655_(NC_000913)\t65785\t65824\tCha8\t0.253628285\t-\tE._coli_K12_MG1655_(NC_000913)\tGeneious\tgene\t63429\t65780\t.\t-\t.\tName=polB gene\t6\n",
      "\n",
      "NZ_CP012347.1\t125140\t125190\tNur453\t0.902434583\t+\tNZ_CP012347.1\tRefSeq\tgene\t126436\t127389\t.\t-\t.\tID=gene-SEEP9120_RS00590;Name=rfaC;gbkey=Gene;gene=rfaC;gene_biotype=protein_coding;locus_tag=SEEP9120_RS00590;old_locus_tag=SEEP9120_000590\t1246\n",
      "\n"
     ]
    }
   ],
   "source": [
    "from ppretty import ppretty\n",
    "\n",
    "Ec_terms = pybedtools.BedTool(Ec_BED_terminators_file_path).sort()\n",
    "Sp_terms = pybedtools.BedTool(Sp_BED_terminators_file_path).sort()\n",
    "#print Sp_terms[0]\n",
    "#print ppretty(Sp_terms[0], seq_length=100)\n",
    "Ec_genes = pybedtools.BedTool(Ec_annotation_file_path).sort()\n",
    "\n",
    "#print dir(Ec_genes[4])\n",
    "#print ppretty(Ec_genes[4], seq_length=100)\n",
    "Ec_genes = Ec_genes.filter(lambda x: x[2] == 'gene').saveas()\n",
    "#print ppretty(Ec_genes[4], seq_length=100)\n",
    "#print Ec_genes\n",
    "Sp_genes = pybedtools.BedTool(Sp_annotation_file_path).sort()\n",
    "Sp_genes = Sp_genes.filter(lambda x: x[2] == 'gene').saveas()\n",
    "#print Sp_genes[4]\n",
    "#print ppretty(Sp_genes[4], seq_length=100)\n",
    "\n",
    "# Find upstream genes\n",
    "EC_up = Ec_terms.closest(Ec_genes, D='a', fu=True, io=False)\n",
    "#print EC_up[0]\n",
    "\n",
    "SP_up = Sp_terms.closest(Sp_genes, D='a', fu=True, io=False)\n",
    "#print SP_up[0]\n",
    "\n",
    "# Find downstream genes\n",
    "EC_dn = Ec_terms.closest(Ec_genes, D='a', fd=True, io=False)\n",
    "print EC_dn[0]\n",
    "\n",
    "SP_dn = Sp_terms.closest(Sp_genes, D='a', fd=True, io=False)\n",
    "print SP_dn[0]"
   ]
  },
  {
   "cell_type": "code",
   "execution_count": null,
   "metadata": {},
   "outputs": [],
   "source": []
  },
  {
   "cell_type": "code",
   "execution_count": null,
   "metadata": {},
   "outputs": [],
   "source": []
  }
 ],
 "metadata": {
  "kernelspec": {
   "display_name": "Python 2",
   "language": "python",
   "name": "python2"
  },
  "language_info": {
   "codemirror_mode": {
    "name": "ipython",
    "version": 2
   },
   "file_extension": ".py",
   "mimetype": "text/x-python",
   "name": "python",
   "nbconvert_exporter": "python",
   "pygments_lexer": "ipython2",
   "version": "2.7.16"
  }
 },
 "nbformat": 4,
 "nbformat_minor": 2
}
